{
 "cells": [
  {
   "cell_type": "code",
   "execution_count": 1,
   "metadata": {},
   "outputs": [],
   "source": [
    "import pandas as pd\n",
    "import numpy as np\n",
    "import re\n",
    "from sklearn.preprocessing import OneHotEncoder, LabelEncoder\n",
    "from sklearn.model_selection import train_test_split\n",
    "from scipy.sparse import hstack\n",
    "from sklearn.ensemble import GradientBoostingClassifier\n",
    "from sklearn.preprocessing import LabelBinarizer\n",
    "from sklearn import tree\n",
    "from sklearn.metrics import log_loss, accuracy_score, confusion_matrix, classification_report\n",
    "from sklearn.decomposition import TruncatedSVD\n",
    "import xgboost, lightgbm\n",
    "from xgboost.sklearn import XGBClassifier\n",
    "from lightgbm.sklearn import LGBMClassifier\n",
    "from sklearn.feature_extraction.text import CountVectorizer\n",
    "from sklearn.feature_extraction.text import TfidfVectorizer\n",
    "from sklearn.ensemble import RandomForestClassifier\n",
    "from sklearn.ensemble import GradientBoostingClassifier\n",
    "import string\n",
    "from textblob import TextBlob"
   ]
  },
  {
   "cell_type": "code",
   "execution_count": 2,
   "metadata": {},
   "outputs": [
    {
     "name": "stderr",
     "output_type": "stream",
     "text": [
      "D:\\Prog_files\\Anaconda3\\lib\\site-packages\\ipykernel_launcher.py:1: ParserWarning: Falling back to the 'python' engine because the 'c' engine does not support regex separators (separators > 1 char and different from '\\s+' are interpreted as regex); you can avoid this warning by specifying engine='python'.\n",
      "  \"\"\"Entry point for launching an IPython kernel.\n",
      "D:\\Prog_files\\Anaconda3\\lib\\site-packages\\ipykernel_launcher.py:2: ParserWarning: Falling back to the 'python' engine because the 'c' engine does not support regex separators (separators > 1 char and different from '\\s+' are interpreted as regex); you can avoid this warning by specifying engine='python'.\n",
      "  \n"
     ]
    }
   ],
   "source": [
    "train_txt = pd.read_csv(\"training_text\",sep='\\|\\|', header=None, skiprows=1, names=[\"ID\",\"Text\"])\n",
    "test_txt = pd.read_csv(\"test_text\",sep='\\|\\|', header=None, names=[\"ID\",\"Text\"])\n",
    "train_var = pd.read_csv(\"training_variants\",sep=',')\n",
    "test_var = pd.read_csv(\"test_variants\",sep=',',header=None,names=['ID', 'Gene', 'Variation', 'Class'])"
   ]
  },
  {
   "cell_type": "code",
   "execution_count": 3,
   "metadata": {},
   "outputs": [
    {
     "name": "stdout",
     "output_type": "stream",
     "text": [
      "train_txt (3321, 2)\n",
      "test_txt (368, 2)\n",
      "train_var (3321, 4)\n",
      "test_var (368, 4)\n"
     ]
    }
   ],
   "source": [
    "print('train_txt',train_txt.shape)\n",
    "print('test_txt',test_txt.shape)\n",
    "print('train_var',train_var.shape)\n",
    "print('test_var',test_var.shape)"
   ]
  },
  {
   "cell_type": "code",
   "execution_count": 4,
   "metadata": {},
   "outputs": [
    {
     "name": "stdout",
     "output_type": "stream",
     "text": [
      "(3316, 5)\n"
     ]
    },
    {
     "data": {
      "text/html": [
       "<div>\n",
       "<style scoped>\n",
       "    .dataframe tbody tr th:only-of-type {\n",
       "        vertical-align: middle;\n",
       "    }\n",
       "\n",
       "    .dataframe tbody tr th {\n",
       "        vertical-align: top;\n",
       "    }\n",
       "\n",
       "    .dataframe thead th {\n",
       "        text-align: right;\n",
       "    }\n",
       "</style>\n",
       "<table border=\"1\" class=\"dataframe\">\n",
       "  <thead>\n",
       "    <tr style=\"text-align: right;\">\n",
       "      <th></th>\n",
       "      <th>ID</th>\n",
       "      <th>Gene</th>\n",
       "      <th>Variation</th>\n",
       "      <th>Text</th>\n",
       "      <th>Class</th>\n",
       "    </tr>\n",
       "  </thead>\n",
       "  <tbody>\n",
       "    <tr>\n",
       "      <th>0</th>\n",
       "      <td>0</td>\n",
       "      <td>FAM58A</td>\n",
       "      <td>Truncating Mutations</td>\n",
       "      <td>Cyclin-dependent kinases (CDKs) regulate a var...</td>\n",
       "      <td>1</td>\n",
       "    </tr>\n",
       "    <tr>\n",
       "      <th>1</th>\n",
       "      <td>1</td>\n",
       "      <td>CBL</td>\n",
       "      <td>W802*</td>\n",
       "      <td>Abstract Background  Non-small cell lung canc...</td>\n",
       "      <td>2</td>\n",
       "    </tr>\n",
       "    <tr>\n",
       "      <th>2</th>\n",
       "      <td>2</td>\n",
       "      <td>CBL</td>\n",
       "      <td>Q249E</td>\n",
       "      <td>Abstract Background  Non-small cell lung canc...</td>\n",
       "      <td>2</td>\n",
       "    </tr>\n",
       "    <tr>\n",
       "      <th>3</th>\n",
       "      <td>3</td>\n",
       "      <td>CBL</td>\n",
       "      <td>N454D</td>\n",
       "      <td>Recent evidence has demonstrated that acquired...</td>\n",
       "      <td>3</td>\n",
       "    </tr>\n",
       "    <tr>\n",
       "      <th>4</th>\n",
       "      <td>4</td>\n",
       "      <td>CBL</td>\n",
       "      <td>L399V</td>\n",
       "      <td>Oncogenic mutations in the monomeric Casitas B...</td>\n",
       "      <td>4</td>\n",
       "    </tr>\n",
       "  </tbody>\n",
       "</table>\n",
       "</div>"
      ],
      "text/plain": [
       "   ID    Gene             Variation  \\\n",
       "0   0  FAM58A  Truncating Mutations   \n",
       "1   1     CBL                 W802*   \n",
       "2   2     CBL                 Q249E   \n",
       "3   3     CBL                 N454D   \n",
       "4   4     CBL                 L399V   \n",
       "\n",
       "                                                Text  Class  \n",
       "0  Cyclin-dependent kinases (CDKs) regulate a var...      1  \n",
       "1   Abstract Background  Non-small cell lung canc...      2  \n",
       "2   Abstract Background  Non-small cell lung canc...      2  \n",
       "3  Recent evidence has demonstrated that acquired...      3  \n",
       "4  Oncogenic mutations in the monomeric Casitas B...      4  "
      ]
     },
     "execution_count": 4,
     "metadata": {},
     "output_type": "execute_result"
    }
   ],
   "source": [
    "train_set = pd.merge(train_var,train_txt,how='inner',on='ID')\n",
    "train_set = train_set[['ID', 'Gene', 'Variation', 'Text', 'Class']]\n",
    "train_set.dropna(inplace=True)\n",
    "train_set.reset_index(inplace=True)\n",
    "# train_set.drop(columns=['ID','index'],axis=1,inplace=True)\n",
    "train_set.drop(columns=['index'],axis=1,inplace=True)\n",
    "print(train_set.shape)\n",
    "train_set.head(5)"
   ]
  },
  {
   "cell_type": "code",
   "execution_count": null,
   "metadata": {},
   "outputs": [],
   "source": [
    "test_set = pd.merge(test_var,test_txt,how='inner',on='ID')\n",
    "test_set = test_set[['ID', 'Gene', 'Variation', 'Text', 'Class']]\n",
    "test_set.dropna(inplace=True)\n",
    "test_set.reset_index(inplace=True)\n",
    "# test_set.drop(columns=['ID','index'],axis=1,inplace=True)\n",
    "test_set.drop(columns=['index'],axis=1,inplace=True)\n",
    "print(test_set.shape)\n",
    "test_set.head(5)"
   ]
  },
  {
   "cell_type": "code",
   "execution_count": 6,
   "metadata": {},
   "outputs": [
    {
     "data": {
      "text/html": [
       "<div>\n",
       "<style scoped>\n",
       "    .dataframe tbody tr th:only-of-type {\n",
       "        vertical-align: middle;\n",
       "    }\n",
       "\n",
       "    .dataframe tbody tr th {\n",
       "        vertical-align: top;\n",
       "    }\n",
       "\n",
       "    .dataframe thead th {\n",
       "        text-align: right;\n",
       "    }\n",
       "</style>\n",
       "<table border=\"1\" class=\"dataframe\">\n",
       "  <thead>\n",
       "    <tr style=\"text-align: right;\">\n",
       "      <th></th>\n",
       "      <th>ID</th>\n",
       "      <th>Gene</th>\n",
       "      <th>Variation</th>\n",
       "      <th>Text</th>\n",
       "      <th>Class</th>\n",
       "    </tr>\n",
       "  </thead>\n",
       "  <tbody>\n",
       "    <tr>\n",
       "      <th>count</th>\n",
       "      <td>3316.000000</td>\n",
       "      <td>3316</td>\n",
       "      <td>3316</td>\n",
       "      <td>3316</td>\n",
       "      <td>3316.000000</td>\n",
       "    </tr>\n",
       "    <tr>\n",
       "      <th>unique</th>\n",
       "      <td>NaN</td>\n",
       "      <td>262</td>\n",
       "      <td>2993</td>\n",
       "      <td>1920</td>\n",
       "      <td>NaN</td>\n",
       "    </tr>\n",
       "    <tr>\n",
       "      <th>top</th>\n",
       "      <td>NaN</td>\n",
       "      <td>BRCA1</td>\n",
       "      <td>Truncating Mutations</td>\n",
       "      <td>The PTEN (phosphatase and tensin homolog) phos...</td>\n",
       "      <td>NaN</td>\n",
       "    </tr>\n",
       "    <tr>\n",
       "      <th>freq</th>\n",
       "      <td>NaN</td>\n",
       "      <td>264</td>\n",
       "      <td>92</td>\n",
       "      <td>53</td>\n",
       "      <td>NaN</td>\n",
       "    </tr>\n",
       "    <tr>\n",
       "      <th>mean</th>\n",
       "      <td>1660.034077</td>\n",
       "      <td>NaN</td>\n",
       "      <td>NaN</td>\n",
       "      <td>NaN</td>\n",
       "      <td>4.366104</td>\n",
       "    </tr>\n",
       "    <tr>\n",
       "      <th>std</th>\n",
       "      <td>959.287860</td>\n",
       "      <td>NaN</td>\n",
       "      <td>NaN</td>\n",
       "      <td>NaN</td>\n",
       "      <td>2.309241</td>\n",
       "    </tr>\n",
       "    <tr>\n",
       "      <th>min</th>\n",
       "      <td>0.000000</td>\n",
       "      <td>NaN</td>\n",
       "      <td>NaN</td>\n",
       "      <td>NaN</td>\n",
       "      <td>1.000000</td>\n",
       "    </tr>\n",
       "    <tr>\n",
       "      <th>25%</th>\n",
       "      <td>828.750000</td>\n",
       "      <td>NaN</td>\n",
       "      <td>NaN</td>\n",
       "      <td>NaN</td>\n",
       "      <td>2.000000</td>\n",
       "    </tr>\n",
       "    <tr>\n",
       "      <th>50%</th>\n",
       "      <td>1661.500000</td>\n",
       "      <td>NaN</td>\n",
       "      <td>NaN</td>\n",
       "      <td>NaN</td>\n",
       "      <td>4.000000</td>\n",
       "    </tr>\n",
       "    <tr>\n",
       "      <th>75%</th>\n",
       "      <td>2490.250000</td>\n",
       "      <td>NaN</td>\n",
       "      <td>NaN</td>\n",
       "      <td>NaN</td>\n",
       "      <td>7.000000</td>\n",
       "    </tr>\n",
       "    <tr>\n",
       "      <th>max</th>\n",
       "      <td>3320.000000</td>\n",
       "      <td>NaN</td>\n",
       "      <td>NaN</td>\n",
       "      <td>NaN</td>\n",
       "      <td>9.000000</td>\n",
       "    </tr>\n",
       "  </tbody>\n",
       "</table>\n",
       "</div>"
      ],
      "text/plain": [
       "                 ID   Gene             Variation  \\\n",
       "count   3316.000000   3316                  3316   \n",
       "unique          NaN    262                  2993   \n",
       "top             NaN  BRCA1  Truncating Mutations   \n",
       "freq            NaN    264                    92   \n",
       "mean    1660.034077    NaN                   NaN   \n",
       "std      959.287860    NaN                   NaN   \n",
       "min        0.000000    NaN                   NaN   \n",
       "25%      828.750000    NaN                   NaN   \n",
       "50%     1661.500000    NaN                   NaN   \n",
       "75%     2490.250000    NaN                   NaN   \n",
       "max     3320.000000    NaN                   NaN   \n",
       "\n",
       "                                                     Text        Class  \n",
       "count                                                3316  3316.000000  \n",
       "unique                                               1920          NaN  \n",
       "top     The PTEN (phosphatase and tensin homolog) phos...          NaN  \n",
       "freq                                                   53          NaN  \n",
       "mean                                                  NaN     4.366104  \n",
       "std                                                   NaN     2.309241  \n",
       "min                                                   NaN     1.000000  \n",
       "25%                                                   NaN     2.000000  \n",
       "50%                                                   NaN     4.000000  \n",
       "75%                                                   NaN     7.000000  \n",
       "max                                                   NaN     9.000000  "
      ]
     },
     "execution_count": 6,
     "metadata": {},
     "output_type": "execute_result"
    }
   ],
   "source": [
    "# train_set.describe(include = 'all')\n",
    "# test_set.describe(include = 'all')"
   ]
  },
  {
   "cell_type": "code",
   "execution_count": null,
   "metadata": {},
   "outputs": [],
   "source": [
    "train_gene = train_set['Gene'].unique()\n",
    "print('count_train_gene =',len(train_gene))\n",
    "test_gene = test_set['Gene'].unique()\n",
    "print('count_test_gene =',len(test_gene))"
   ]
  },
  {
   "cell_type": "code",
   "execution_count": null,
   "metadata": {},
   "outputs": [],
   "source": [
    "train_variation = train_set['Variation'].unique()\n",
    "print('count_train_variation =',len(train_variation))\n",
    "test_variation = test_set['Variation'].unique()\n",
    "print('count_test_variation =',len(test_variation))"
   ]
  },
  {
   "cell_type": "code",
   "execution_count": 6,
   "metadata": {},
   "outputs": [],
   "source": [
    "def get_char_info(text):\n",
    "    txt_split = re.split('[0-9]*',text)\n",
    "    txt_split = [i for i in txt_split if i != '']\n",
    "    if len(txt_split) == 0: first_char, second_char, third_char = '','',''\n",
    "    elif len(txt_split) == 1: first_char, second_char, third_char = txt_split[0],'',''\n",
    "    elif len(txt_split) == 2: first_char, second_char, third_char = txt_split[0],txt_split[1],''\n",
    "    elif len(txt_split) == 3: first_char, second_char, third_char = txt_split[0],txt_split[1],txt_split[2]\n",
    "    return first_char, second_char, third_char"
   ]
  },
  {
   "cell_type": "code",
   "execution_count": 7,
   "metadata": {},
   "outputs": [],
   "source": [
    "def get_num_info(text):\n",
    "    txt_split = re.split('[A-Z]*',text)\n",
    "    txt_split = [i for i in txt_split if i != '']\n",
    "    if len(txt_split) == 0: first_num, second_num, third_num = 0,0,0\n",
    "    elif len(txt_split) == 1: first_num, second_num, third_num = int(txt_split[0]),0,0\n",
    "    elif len(txt_split) == 2: first_num, second_num, third_num = int(txt_split[0]),int(txt_split[1]),0\n",
    "    elif len(txt_split) == 3: first_num, second_num, third_num = int(txt_split[0]),int(txt_split[1]),int(txt_split[2])\n",
    "    return first_num, second_num, third_num"
   ]
  },
  {
   "cell_type": "code",
   "execution_count": 8,
   "metadata": {},
   "outputs": [],
   "source": [
    "def gene_features(gene):\n",
    "    first_char, second_char, third_char = get_char_info(gene)\n",
    "    first_num, second_num, third_num = get_num_info(gene)\n",
    "    len_char1 = len(first_char)\n",
    "    len_char2 = len(second_char)\n",
    "    len_char3 = len(third_char)\n",
    "    if len_char1 > 0 : gene_char1 = first_char[0]\n",
    "    else: gene_char1 = ' '\n",
    "    if len_char2 > 0 : gene_char2 = second_char[0]\n",
    "    else: gene_char2 = ' '\n",
    "    if len_char3 > 0 : gene_char3 = third_char[0]\n",
    "    else: gene_char3 = ' '\n",
    "    return gene_char1, len_char1, gene_char2, len_char2, gene_char3, len_char3, first_num, second_num, third_num"
   ]
  },
  {
   "cell_type": "code",
   "execution_count": 9,
   "metadata": {},
   "outputs": [],
   "source": [
    "# extract pure numbers\n",
    "def extract_num_frm_text(text):\n",
    "    m = re.search(' [0-9]* ',text)\n",
    "    if m is not None:\n",
    "        number = int(m.group())\n",
    "        sp = text.split(m.group())\n",
    "        other = ' '.join(sp)\n",
    "    else:\n",
    "        number = 0\n",
    "        other = text\n",
    "    return number, other"
   ]
  },
  {
   "cell_type": "code",
   "execution_count": 10,
   "metadata": {},
   "outputs": [],
   "source": [
    "#only text \n",
    "def extract_pure_text_frm_text(text):\n",
    "    txt_splits = re.split(' ',text)\n",
    "    pure,non_pure = [],[]\n",
    "    for txt in txt_splits:\n",
    "        m = re.search('[A-Z][a-z]*|[a-z/]*',txt)\n",
    "        if m is not None and m.group() == txt:\n",
    "            pure.append(txt)\n",
    "        else: non_pure.append(txt)\n",
    "    pure_text = ' '.join(pure)\n",
    "    non_pure_text = ''.join(non_pure)\n",
    "    return pure_text,non_pure_text"
   ]
  },
  {
   "cell_type": "code",
   "execution_count": 11,
   "metadata": {},
   "outputs": [],
   "source": [
    "def extract_category_combination_from_text(text):\n",
    "    rep = re.sub('\\_|\\?|\\'|\\*|\\-','',text)\n",
    "    cat = ''.join(re.split('[A-Z0-9]*',rep))\n",
    "    comb = ''.join(re.split('[a-z]*',rep))\n",
    "    return cat,comb"
   ]
  },
  {
   "cell_type": "code",
   "execution_count": 12,
   "metadata": {},
   "outputs": [],
   "source": [
    "def gene_and_variations_features(df):\n",
    "    for i in range(len(df)):\n",
    "        variation = df.loc[i,'Variation']\n",
    "        gene = train_set.loc[i,'Gene']\n",
    "        number, other = extract_num_frm_text(variation)\n",
    "        pure_text, non_pure_text = extract_pure_text_frm_text(other)\n",
    "        cat, comb = extract_category_combination_from_text(non_pure_text)\n",
    "        v_char1,v_len1,v_char2,v_len2,v_char3,v_len3,v_num1,v_num2,v_num3 = gene_features(comb)\n",
    "        gene = re.sub('\\_|\\?|\\'|\\*|\\-','',gene)\n",
    "        g_char1,g_len1,g_char2,g_len2,g_char3,g_len3,g_num1,g_num2,g_num3 = gene_features(gene)\n",
    "        df.loc[i,'var_number'] = number\n",
    "        df.loc[i,'var_pure_text'] = pure_text\n",
    "        df.loc[i,'var_category'] = cat\n",
    "        df.loc[i,'var_combination'] = comb\n",
    "        df.loc[i,'var_comb_char1'] = v_char1\n",
    "        df.loc[i,'var_comb_char1_len'] = v_len1\n",
    "        df.loc[i,'var_comb_char2'] = v_char2\n",
    "        df.loc[i,'var_comb_char2_len'] = v_len2\n",
    "        df.loc[i,'var_comb_char3'] = v_char3\n",
    "        df.loc[i,'var_comb_char3_len'] = v_len3\n",
    "        df.loc[i,'var_comb_num1'] = v_num1\n",
    "        df.loc[i,'var_comb_num2'] = v_num2\n",
    "        df.loc[i,'var_comb_num3'] = v_num3\n",
    "        df.loc[i,'gene_char1'] = g_char1\n",
    "        df.loc[i,'gene_char1_len'] = g_len1\n",
    "        df.loc[i,'gene_char2'] = g_char2\n",
    "        df.loc[i,'gene_char2_len'] = g_len2\n",
    "        df.loc[i,'gene_char3'] = g_char3\n",
    "        df.loc[i,'gene_char3_len'] = g_len3\n",
    "        df.loc[i,'gene_num1'] = g_num1\n",
    "        df.loc[i,'gene_num2'] = g_num2\n",
    "        df.loc[i,'gene_num3'] = g_num3\n",
    "    return df"
   ]
  },
  {
   "cell_type": "code",
   "execution_count": null,
   "metadata": {},
   "outputs": [],
   "source": [
    "train_txt =  train_set[['ID','Text']]\n",
    "train_set.drop(columns='Text',inplace=True)\n",
    "test_txt =  test_set[['ID','Text']]\n",
    "test_set.drop(columns='Text',inplace=True)\n",
    "print(train_set.shape)\n",
    "print(test_set.shape)"
   ]
  },
  {
   "cell_type": "code",
   "execution_count": null,
   "metadata": {},
   "outputs": [],
   "source": [
    "train_set_mod = gene_and_variations_features(train_set)\n",
    "test_set_mod = gene_and_variations_features(test_set)"
   ]
  },
  {
   "cell_type": "code",
   "execution_count": null,
   "metadata": {},
   "outputs": [],
   "source": [
    "train_set_mod = train_set_mod.drop(columns=['Gene', 'Variation','var_combination'])\n",
    "test_set_mod = test_set_mod.drop(columns=['Gene', 'Variation', 'var_combination'])\n",
    "train_set_mod.columns"
   ]
  },
  {
   "cell_type": "code",
   "execution_count": 13,
   "metadata": {},
   "outputs": [
    {
     "name": "stdout",
     "output_type": "stream",
     "text": [
      "(3316, 136)\n"
     ]
    }
   ],
   "source": [
    "# train_set_new.describe(include='all')\n",
    "cat_columns = ['var_category', 'var_comb_char1', 'var_comb_char2', 'var_comb_char3', \n",
    "               'gene_char1', 'gene_char2', 'gene_char3']\n",
    "print(train_set_mod.shape)"
   ]
  },
  {
   "cell_type": "code",
   "execution_count": null,
   "metadata": {},
   "outputs": [],
   "source": [
    "for col in cat_columns:\n",
    "    cat_features = train_set_mod[col]\n",
    "    test_cat_features = test_set_mod[col]\n",
    "    enc = LabelEncoder()\n",
    "    cat_features = enc.fit_transform(cat_features)\n",
    "    cat_features = cat_features.reshape(-1, 1) # Needs to be the correct shape\n",
    "    test_cat_features = enc.transform(test_cat_features)\n",
    "    test_cat_features = test_cat_features.reshape(-1, 1) # Needs to be the correct shape\n",
    "    ohe = OneHotEncoder(sparse=False) #Easier to read\n",
    "    cat_matrix = ohe.fit_transform(cat_features)\n",
    "    test_cat_matrix = ohe.transform(test_cat_features)\n",
    "    cat_matrix_df = pd.DataFrame(cat_matrix,columns = col+'_'+enc.classes_)\n",
    "    test_cat_matrix_df = pd.DataFrame(test_cat_matrix,columns = col+'_'+enc.classes_)\n",
    "    train_set_mod = train_set_mod.merge(cat_matrix_df, how='inner',left_index=True, right_index=True)\n",
    "    test_set_mod = test_set_mod.merge(test_cat_matrix_df, how='inner',left_index=True, right_index=True)\n",
    "    print(col,len(enc.classes_))\n",
    "    print(train_set_mod.shape)\n",
    "    print(test_set_mod.shape)"
   ]
  },
  {
   "cell_type": "code",
   "execution_count": null,
   "metadata": {},
   "outputs": [],
   "source": [
    "train_set_mod = train_set_mod.drop(columns=cat_columns)\n",
    "test_set_mod = test_set_mod.drop(columns=cat_columns)\n",
    "print(train_set_mod.shape)\n",
    "print(test_set_mod.shape)"
   ]
  },
  {
   "cell_type": "code",
   "execution_count": 5,
   "metadata": {},
   "outputs": [],
   "source": [
    "import nltk\n",
    "from nltk.corpus import stopwords\n",
    "newstopwords=stopwords.words(\"English\")\n",
    "WNlemma = nltk.WordNetLemmatizer()\n",
    "\n",
    "def pre_process(text):\n",
    "    text = re.sub(r'\\([^)]*\\)', '', text) # removes brackets and letters within in them\n",
    "    text = re.sub('[.,\\/\\-\\&]',' ', text) # replaces ',','.' with additional space\n",
    "    text = re.sub(r'[^a-zA-Z0-9\\s]','', text) # removes special character\n",
    "    text = re.sub('[0-9]','', text)\n",
    "    tokens = nltk.word_tokenize(text)\n",
    "    tokens=[WNlemma.lemmatize(word) for word in tokens if len(word) > 2 and word.lower() not in newstopwords]\n",
    "    tokens=[word for word in tokens if len(word) > 2]\n",
    "    text_after_process=\" \".join(tokens)\n",
    "    return(text_after_process)"
   ]
  },
  {
   "cell_type": "code",
   "execution_count": null,
   "metadata": {},
   "outputs": [],
   "source": [
    "train_set_mod['var_pure_text'] = train_set_mod['var_pure_text'].apply(pre_process)\n",
    "test_set_mod['var_pure_text'] = test_set_mod['var_pure_text'].apply(pre_process)"
   ]
  },
  {
   "cell_type": "code",
   "execution_count": 2,
   "metadata": {},
   "outputs": [
    {
     "name": "stdout",
     "output_type": "stream",
     "text": [
      "(3316, 136)\n",
      "(367, 136)\n"
     ]
    }
   ],
   "source": [
    "# np.save('train_set_mod.npy', train_set_mod.values) \n",
    "# np.save('test_set_mod.npy', test_set_mod.values) \n",
    "# np.save('set_mod_cols.npy', train_set_mod.columns)\n",
    "# set_mod_cols = np.load('set_mod_cols.npy')\n",
    "# train_set_mod = pd.DataFrame(np.load('train_set_mod.npy'),columns = set_mod_cols)\n",
    "# test_set_mod = pd.DataFrame(np.load('test_set_mod.npy'),columns = set_mod_cols)\n",
    "# print(train_set_mod.shape)\n",
    "# print(test_set_mod.shape)"
   ]
  },
  {
   "cell_type": "code",
   "execution_count": null,
   "metadata": {},
   "outputs": [],
   "source": [
    "train_txt['New_Text'] = train_txt['Text'].apply(pre_process)\n",
    "test_txt['New_Text'] = test_txt['Text'].apply(pre_process)"
   ]
  },
  {
   "cell_type": "code",
   "execution_count": null,
   "metadata": {},
   "outputs": [],
   "source": [
    "train_txt['text_len'] = train_txt['Text'].apply(len)\n",
    "test_txt['text_len'] = test_txt['Text'].apply(len)"
   ]
  },
  {
   "cell_type": "code",
   "execution_count": null,
   "metadata": {},
   "outputs": [],
   "source": [
    "train_txt['word_count'] = train_txt['Text'].apply(lambda x: len(x.split()))\n",
    "test_txt['word_count'] = test_txt['Text'].apply(lambda x: len(x.split()))"
   ]
  },
  {
   "cell_type": "code",
   "execution_count": null,
   "metadata": {},
   "outputs": [],
   "source": [
    "train_txt['word_density'] = train_txt['text_len'] / train_txt['word_count']\n",
    "test_txt['word_density'] = test_txt['text_len'] / test_txt['word_count']"
   ]
  },
  {
   "cell_type": "code",
   "execution_count": null,
   "metadata": {},
   "outputs": [],
   "source": [
    "punct = string.punctuation\n",
    "train_txt['punct_count'] = train_txt['Text'].apply(lambda x:  len(\"\".join([st for st in x if st in punct])))\n",
    "test_txt['punct_count'] = test_txt['Text'].apply(lambda x:  len(\"\".join([st for st in x if st in punct])))"
   ]
  },
  {
   "cell_type": "code",
   "execution_count": null,
   "metadata": {},
   "outputs": [],
   "source": [
    "train_txt['title_word_count'] = train_txt['Text'].apply(lambda x: len([wrd for wrd in x.split() if wrd.istitle()]))\n",
    "test_txt['title_word_count'] = test_txt['Text'].apply(lambda x: len([wrd for wrd in x.split() if wrd.istitle()]))"
   ]
  },
  {
   "cell_type": "code",
   "execution_count": null,
   "metadata": {},
   "outputs": [],
   "source": [
    "train_txt['upper_case_word_count'] = train_txt['Text'].apply(lambda x: len([wrd for wrd in x.split() if wrd.isupper()]))\n",
    "test_txt['upper_case_word_count'] = test_txt['Text'].apply(lambda x: len([wrd for wrd in x.split() if wrd.isupper()]))"
   ]
  },
  {
   "cell_type": "code",
   "execution_count": null,
   "metadata": {},
   "outputs": [],
   "source": [
    "train_txt['stopword_count'] = train_txt['Text'].apply(lambda x: len([wrd for wrd in x.split() if wrd.lower() in newstopwords]))\n",
    "test_txt['stopword_count'] = test_txt['Text'].apply(lambda x: len([wrd for wrd in x.split() if wrd.lower() in newstopwords]))"
   ]
  },
  {
   "cell_type": "code",
   "execution_count": 3,
   "metadata": {},
   "outputs": [
    {
     "name": "stdout",
     "output_type": "stream",
     "text": [
      "(3316, 10)\n",
      "(367, 10)\n"
     ]
    }
   ],
   "source": [
    "# np.save('train_txt.npy', train_txt.values) \n",
    "# np.save('test_txt.npy', test_txt.values) \n",
    "# np.save('txt_cols.npy', train_txt.columns)\n",
    "# txt_cols = np.load('txt_cols.npy')\n",
    "# train_txt = pd.DataFrame(np.load('train_txt.npy'),columns = txt_cols)\n",
    "# test_txt = pd.DataFrame(np.load('test_txt.npy'),columns = txt_cols)\n",
    "# print(train_txt.shape)\n",
    "# print(test_txt.shape)"
   ]
  },
  {
   "cell_type": "code",
   "execution_count": 4,
   "metadata": {},
   "outputs": [],
   "source": [
    "pos_dic = {\n",
    "    'noun' : ['NN','NNS','NNP','NNPS'],\n",
    "    'pron' : ['PRP','PRP$','WP','WP$'],\n",
    "    'verb' : ['VB','VBD','VBG','VBN','VBP','VBZ'],\n",
    "    'adj' :  ['JJ','JJR','JJS'],\n",
    "    'adv' : ['RB','RBR','RBS','WRB']\n",
    "}\n",
    "\n",
    "# function to check and get the part of speech tag count of a words in a given sentence\n",
    "def pos_check(x, flag):\n",
    "    cnt = 0\n",
    "    try:\n",
    "        wiki = TextBlob(x)\n",
    "        for tup in wiki.tags:\n",
    "            ppo = list(tup)[1]\n",
    "            if ppo in pos_dic[flag]:\n",
    "                cnt += 1\n",
    "    except:\n",
    "        pass\n",
    "    return cnt"
   ]
  },
  {
   "cell_type": "code",
   "execution_count": 14,
   "metadata": {},
   "outputs": [],
   "source": [
    "train_txt['noun_count'] = train_txt['New_Text'].apply(lambda x: pos_check(x, 'noun'))\n",
    "train_txt['verb_count'] = train_txt['New_Text'].apply(lambda x: pos_check(x, 'verb'))\n",
    "train_txt['adj_count'] = train_txt['New_Text'].apply(lambda x: pos_check(x, 'adj'))\n",
    "train_txt['adv_count'] = train_txt['New_Text'].apply(lambda x: pos_check(x, 'adv'))\n",
    "train_txt['pron_count'] = train_txt['New_Text'].apply(lambda x: pos_check(x, 'pron'))\n",
    "test_txt['noun_count'] = test_txt['New_Text'].apply(lambda x: pos_check(x, 'noun'))\n",
    "test_txt['verb_count'] = test_txt['New_Text'].apply(lambda x: pos_check(x, 'verb'))\n",
    "test_txt['adj_count'] = test_txt['New_Text'].apply(lambda x: pos_check(x, 'adj'))\n",
    "test_txt['adv_count'] = test_txt['New_Text'].apply(lambda x: pos_check(x, 'adv'))\n",
    "test_txt['pron_count'] = test_txt['New_Text'].apply(lambda x: pos_check(x, 'pron'))"
   ]
  },
  {
   "cell_type": "code",
   "execution_count": null,
   "metadata": {},
   "outputs": [],
   "source": [
    "# no change until above"
   ]
  },
  {
   "cell_type": "code",
   "execution_count": 116,
   "metadata": {},
   "outputs": [
    {
     "name": "stdout",
     "output_type": "stream",
     "text": [
      "(3316, 15)\n",
      "(367, 15)\n"
     ]
    }
   ],
   "source": [
    "# np.save('train_txt.npy', train_txt.values) \n",
    "# np.save('test_txt.npy', test_txt.values) \n",
    "# np.save('txt_cols.npy', train_txt.columns)\n",
    "# txt_cols = np.load('txt_cols.npy')\n",
    "# train_txt = pd.DataFrame(np.load('train_txt.npy'),columns = txt_cols)\n",
    "# test_txt = pd.DataFrame(np.load('test_txt.npy'),columns = txt_cols)\n",
    "# print(train_txt.shape)\n",
    "# print(test_txt.shape)"
   ]
  },
  {
   "cell_type": "code",
   "execution_count": 133,
   "metadata": {},
   "outputs": [
    {
     "name": "stdout",
     "output_type": "stream",
     "text": [
      "(3316, 149)\n",
      "(367, 149)\n",
      "(3316, 148)\n",
      "(367, 148)\n"
     ]
    }
   ],
   "source": [
    "cols_wo_Text = [col for col in train_txt_new.columns if col != 'Text']\n",
    "train_set_new = pd.merge(train_set_mod,train_txt[cols_wo_Text],how='inner',on='ID')\n",
    "test_set_new = pd.merge(test_set_mod,test_txt[cols_wo_Text],how='inner',on='ID')\n",
    "print(train_set_new.shape)\n",
    "print(test_set_new.shape)\n",
    "train_set_new.drop(columns='ID',inplace=True)\n",
    "test_set_new.drop(columns='ID',inplace=True)\n",
    "print(train_set_new.shape)\n",
    "print(test_set_new.shape)\n",
    "for i in range(0, len(train_set_new.columns)):\n",
    "    train_set_new.iloc[:,i] = pd.to_numeric(train_set_new.iloc[:,i], errors='ignore')\n",
    "for i in range(0, len(test_set_new.columns)):\n",
    "    test_set_new.iloc[:,i] = pd.to_numeric(test_set_new.iloc[:,i], errors='ignore')"
   ]
  },
  {
   "cell_type": "code",
   "execution_count": 134,
   "metadata": {},
   "outputs": [],
   "source": [
    "# cols_x only x variables\n",
    "cols_x = [col for col in train_set_new.columns if col != 'Class']\n",
    "# cols_xx only x variables - Text - var_pure_text\n",
    "cols_xx = [col for col in train_set_new.columns if col not in ['Class','New_Text','var_pure_text']]"
   ]
  },
  {
   "cell_type": "code",
   "execution_count": 135,
   "metadata": {},
   "outputs": [],
   "source": [
    "#split the data into training and testing\n",
    "# X_train, X_valid, y_train, y_valid = train_test_split(train_set_new[cols_x], train_set_new.Class, \n",
    "#                                                       test_size=0.2, random_state=12,\n",
    "#                                                       stratify=train_set_new.Class)\n",
    "X_train = train_set_new[cols_x]\n",
    "y_train = train_set_new.Class\n",
    "X_test = test_set_new[cols_x]\n",
    "y_test = test_set_new.Class"
   ]
  },
  {
   "cell_type": "code",
   "execution_count": 136,
   "metadata": {},
   "outputs": [],
   "source": [
    "# # bag of words - text\n",
    "# cv_text = CountVectorizer(min_df=0., max_df=1.)\n",
    "# X_train_text_bag = cv_text.fit_transform(X_train.New_Text)\n",
    "# X_valid_text_bag = cv_text.transform(X_valid.New_Text)\n",
    "# print(len(cv_text.get_feature_names()))\n",
    "# print(X_train_text_bag.shape)"
   ]
  },
  {
   "cell_type": "code",
   "execution_count": 137,
   "metadata": {},
   "outputs": [],
   "source": [
    "# # bag of words - var_pure_text\n",
    "# cv_var = CountVectorizer(min_df=0., max_df=1.)\n",
    "# X_train_var_bag = cv_var.fit_transform(X_train.New_var_pure_text)\n",
    "# X_valid_var_bag = cv_var.transform(X_valid.New_var_pure_text)\n",
    "# print(len(cv_var.get_feature_names()))\n",
    "# print(X_train_var_bag.shape)"
   ]
  },
  {
   "cell_type": "code",
   "execution_count": 138,
   "metadata": {},
   "outputs": [
    {
     "name": "stdout",
     "output_type": "stream",
     "text": [
      "(3316, 10000)\n"
     ]
    }
   ],
   "source": [
    "# tfidf - text\n",
    "tfidf_text = TfidfVectorizer(min_df=0., max_df=1., use_idf=True, max_features=10000)\n",
    "X_train_text_tfidf = tfidf_text.fit_transform(X_train.New_Text)\n",
    "# X_valid_text_tfidf = tfidf_text.transform(X_valid.New_Text)\n",
    "X_test_text_tfidf = tfidf_text.transform(X_test.New_Text)\n",
    "# text_svd = TruncatedSVD(n_components=100, n_iter=25, random_state=12)\n",
    "# X_train_text_tfidf = text_svd.fit_transform(X_train_text_tfidf)\n",
    "# X_valid_text_tfidf = text_svd.transform(X_valid_text_tfidf)\n",
    "print(X_train_text_tfidf.shape)"
   ]
  },
  {
   "cell_type": "code",
   "execution_count": 139,
   "metadata": {},
   "outputs": [
    {
     "name": "stdout",
     "output_type": "stream",
     "text": [
      "(3316, 28)\n"
     ]
    }
   ],
   "source": [
    "# tfidf - var_pure_text\n",
    "tfidf_var = TfidfVectorizer(min_df=0., max_df=1., use_idf=True, max_features=10000)\n",
    "X_train_var_tfidf = tfidf_var.fit_transform(X_train.var_pure_text)\n",
    "# X_valid_var_tfidf = tfidf_var.transform(X_valid.var_pure_text)\n",
    "X_test_var_tfidf = tfidf_var.transform(X_test.var_pure_text)\n",
    "print(X_train_var_tfidf.shape)"
   ]
  },
  {
   "cell_type": "code",
   "execution_count": null,
   "metadata": {},
   "outputs": [],
   "source": [
    "# text_svd = TruncatedSVD(n_components=100, n_iter=25, random_state=12)\n",
    "# X_train_tfidf_trun = text_svd.fit_transform(X_train_tfidf)\n",
    "# print(X_train_tfidf_trun.shape)"
   ]
  },
  {
   "cell_type": "code",
   "execution_count": 140,
   "metadata": {},
   "outputs": [],
   "source": [
    "X_train_final = hstack((np.array(X_train[cols_xx])\n",
    "                        ,X_train_text_tfidf\n",
    "                        ,X_train_var_tfidf\n",
    "                       ))\n",
    "# X_valid_final = hstack((np.array(X_valid[cols_xx])\n",
    "#                         ,X_valid_text_tfidf\n",
    "#                         ,X_valid_var_tfidf\n",
    "#                        ))\n",
    "X_test_final = hstack((np.array(X_test[cols_xx])\n",
    "                        ,X_test_text_tfidf\n",
    "                        ,X_test_var_tfidf\n",
    "                       ))"
   ]
  },
  {
   "cell_type": "code",
   "execution_count": 142,
   "metadata": {},
   "outputs": [
    {
     "name": "stdout",
     "output_type": "stream",
     "text": [
      "(3316, 10173)\n",
      "(367, 10173)\n"
     ]
    }
   ],
   "source": [
    "print(X_train_final.shape)\n",
    "print(X_test_final.shape)"
   ]
  },
  {
   "cell_type": "code",
   "execution_count": 58,
   "metadata": {},
   "outputs": [
    {
     "name": "stdout",
     "output_type": "stream",
     "text": [
      "0.6400602409638554\n",
      "1.0397783157002602\n"
     ]
    }
   ],
   "source": [
    "clf = RandomForestClassifier(n_estimators=300, max_depth=20, max_features=50, random_state=0)\n",
    "# clf = RandomForestClassifier(n_estimators=300, max_depth=20, max_features=8, random_state=0)\n",
    "clf.fit(X_train_final, y_train)\n",
    "y_pred = clf.predict(X_valid_final)\n",
    "y_prob = clf.predict_proba(X_valid_final)\n",
    "print(accuracy_score(y_valid, y_pred))\n",
    "print(log_loss(y_valid, y_prob))"
   ]
  },
  {
   "cell_type": "code",
   "execution_count": 59,
   "metadata": {},
   "outputs": [
    {
     "name": "stdout",
     "output_type": "stream",
     "text": [
      "0.6460843373493976\n",
      "1.6180864432056838\n"
     ]
    }
   ],
   "source": [
    "clf = GradientBoostingClassifier(n_estimators=300, max_depth=20, max_features=50, random_state=0)\n",
    "clf.fit(X_train_final, y_train)\n",
    "y_pred = clf.predict(X_valid_final)\n",
    "y_prob = clf.predict_proba(X_valid_final)\n",
    "print(accuracy_score(y_valid, y_pred))\n",
    "print(log_loss(y_valid, y_prob))"
   ]
  },
  {
   "cell_type": "code",
   "execution_count": 143,
   "metadata": {},
   "outputs": [
    {
     "name": "stderr",
     "output_type": "stream",
     "text": [
      "D:\\Prog_files\\Anaconda3\\lib\\site-packages\\sklearn\\preprocessing\\label.py:151: DeprecationWarning: The truth value of an empty array is ambiguous. Returning False, but in future this will result in an error. Use `array.size > 0` to check that an array is not empty.\n",
      "  if diff:\n"
     ]
    },
    {
     "name": "stdout",
     "output_type": "stream",
     "text": [
      "0.7029972752043597\n",
      "0.7886307546177407\n"
     ]
    }
   ],
   "source": [
    "clf = XGBClassifier(max_depth=8, min_child_weight=3, subsample=0.9, colsample_bytree=0.6, learning_rate=0.1, n_estimators=100, random_state=0, verbose=1)\n",
    "#'max_depth': 16, 'min_child_weight': 10, 'colsample_bytree': 0.5, 'subsample': 1.0, 'learning_rate': 0.1, 'n_estimators': 500\n",
    "# OLD max_depth=8, min_child_weight=3, subsample=0.9, colsample_bytree=0.6, learning_rate=0.1, n_estimators=100, random_state=0\n",
    "# clf.fit(X_train_final, y_train)\n",
    "# y_pred = clf.predict(X_valid_final)\n",
    "# y_prob = clf.predict_proba(X_valid_final)\n",
    "# print(accuracy_score(y_valid, y_pred))\n",
    "# print(log_loss(y_valid, y_prob))\n",
    "# clf.fit(train_set_new[cols_xx], train_set_new['Class'])\n",
    "# y_pred = clf.predict(test_set_new[cols_xx])\n",
    "# y_prob = clf.predict_proba(test_set_new[cols_xx])\n",
    "# print(accuracy_score(test_set_new['Class'], y_pred))\n",
    "# print(log_loss(test_set_new['Class'], y_prob))\n",
    "clf.fit(X_train_final, y_train)\n",
    "y_pred = clf.predict(X_test_final)\n",
    "y_prob = clf.predict_proba(X_test_final)\n",
    "print(accuracy_score(y_test, y_pred))\n",
    "print(log_loss(y_test, y_prob))"
   ]
  },
  {
   "cell_type": "code",
   "execution_count": 61,
   "metadata": {},
   "outputs": [
    {
     "name": "stderr",
     "output_type": "stream",
     "text": [
      "D:\\Prog_files\\Anaconda3\\lib\\site-packages\\lightgbm\\basic.py:452: UserWarning: Converting data to scipy sparse matrix.\n",
      "  warnings.warn('Converting data to scipy sparse matrix.')\n",
      "D:\\Prog_files\\Anaconda3\\lib\\site-packages\\sklearn\\preprocessing\\label.py:151: DeprecationWarning: The truth value of an empty array is ambiguous. Returning False, but in future this will result in an error. Use `array.size > 0` to check that an array is not empty.\n",
      "  if diff:\n"
     ]
    },
    {
     "name": "stdout",
     "output_type": "stream",
     "text": [
      "0.6852409638554217\n",
      "1.1228973957453976\n"
     ]
    }
   ],
   "source": [
    "clf = LGBMClassifier(max_depth=20, min_child_weight=3, subsample=0.9, colsample_bytree=0.6, learning_rate=0.1, n_estimators=200, random_state=0)\n",
    "clf.fit(X_train_final, y_train)\n",
    "y_pred = clf.predict(X_valid_final)\n",
    "y_prob = clf.predict_proba(X_valid_final)\n",
    "print(accuracy_score(y_valid, y_pred))\n",
    "print(log_loss(y_valid, y_prob))"
   ]
  },
  {
   "cell_type": "code",
   "execution_count": 153,
   "metadata": {},
   "outputs": [
    {
     "name": "stdout",
     "output_type": "stream",
     "text": [
      "             precision    recall  f1-score   support\n",
      "\n",
      "          1       0.78      0.73      0.75        94\n",
      "          2       0.61      0.49      0.54        45\n",
      "          3       0.38      0.43      0.40         7\n",
      "          4       0.66      0.74      0.70        65\n",
      "          5       0.64      0.56      0.60        25\n",
      "          6       0.70      0.64      0.67        22\n",
      "          7       0.73      0.82      0.77       101\n",
      "          8       0.00      0.00      0.00         2\n",
      "          9       1.00      0.83      0.91         6\n",
      "\n",
      "avg / total       0.70      0.70      0.70       367\n",
      "\n"
     ]
    },
    {
     "name": "stderr",
     "output_type": "stream",
     "text": [
      "D:\\Prog_files\\Anaconda3\\lib\\site-packages\\sklearn\\metrics\\classification.py:1135: UndefinedMetricWarning: Precision and F-score are ill-defined and being set to 0.0 in labels with no predicted samples.\n",
      "  'precision', 'predicted', average, warn_for)\n"
     ]
    }
   ],
   "source": [
    "print(confusion_matrix(y_test, y_pred))"
   ]
  },
  {
   "cell_type": "code",
   "execution_count": 152,
   "metadata": {},
   "outputs": [
    {
     "data": {
      "image/png": "[encoded data removed]",
      "text/plain": [
       "<Figure size 504x504 with 1 Axes>"
      ]
     },
     "metadata": {},
     "output_type": "display_data"
    }
   ],
   "source": [
    "#ROC Curve for each class\n",
    "from sklearn.metrics import roc_curve, auc\n",
    "from sklearn.preprocessing import label_binarize\n",
    "from scipy import interp\n",
    "from itertools import cycle\n",
    "import matplotlib.pyplot as plt\n",
    "classnames = [1,2,3,4,5,6,7,8,9]\n",
    "y_actual_binary = label_binarize(y_test, classes=classnames)\n",
    "y_pred_binary = y_prob #label_binarize(predicted, classes=classnames)\n",
    "n_classes=9\n",
    "lw=2\n",
    "\n",
    "# Compute ROC curve and ROC area for each class\n",
    "fpr = dict()\n",
    "tpr = dict()\n",
    "roc_auc = dict()\n",
    "for i in range(n_classes):\n",
    "    fpr[i], tpr[i], _ = roc_curve(y_actual_binary[:, i], y_pred_binary[:, i])\n",
    "    roc_auc[i] = auc(fpr[i], tpr[i])\n",
    "\n",
    "# Compute micro-average ROC curve and ROC area\n",
    "fpr[\"micro\"], tpr[\"micro\"], _ = roc_curve(y_actual_binary.ravel(), y_pred_binary.ravel())\n",
    "roc_auc[\"micro\"] = auc(fpr[\"micro\"], tpr[\"micro\"])\n",
    "\n",
    "# Compute macro-average ROC curve and ROC area\n",
    "\n",
    "# First aggregate all false positive rates\n",
    "all_fpr = np.unique(np.concatenate([fpr[i] for i in range(n_classes)]))\n",
    "\n",
    "# Then interpolate all ROC curves at this points\n",
    "mean_tpr = np.zeros_like(all_fpr)\n",
    "for i in range(n_classes):\n",
    "    mean_tpr += interp(all_fpr, fpr[i], tpr[i])\n",
    "\n",
    "# Finally average it and compute AUC\n",
    "mean_tpr /= n_classes\n",
    "\n",
    "fpr[\"macro\"] = all_fpr\n",
    "tpr[\"macro\"] = mean_tpr\n",
    "roc_auc[\"macro\"] = auc(fpr[\"macro\"], tpr[\"macro\"])\n",
    "\n",
    "# Plot all ROC curves\n",
    "plt.figure(figsize=(7, 7))\n",
    "\n",
    "colors = cycle([\"#1f77b4\", \"#ff7f0e\", \"#2ca02c\", \"#d62728\", \"#9467bd\", \\\n",
    "                \"#8c564b\", \"#e377c2\", \"#7f7f7f\", \"#bcbd22\", \"#17becf\"])\n",
    "for i, color in zip(range(n_classes), colors):\n",
    "    plt.plot(fpr[i], tpr[i], color=color, lw=lw,\n",
    "             label='ROC curve of {0} (area = {1:0.2f})'\n",
    "             ''.format(classnames[i], roc_auc[i]))\n",
    "\n",
    "plt.plot([0, 1], [0, 1], 'k--', lw=lw)\n",
    "plt.xlim([0.0, 1.0])\n",
    "plt.ylim([0.0, 1.05])\n",
    "plt.xlabel('False Positive Rate')\n",
    "plt.ylabel('True Positive Rate')\n",
    "plt.title('Receiver operating characteristic for multi-class')\n",
    "plt.legend(loc=\"best\")\n",
    "plt.show()"
   ]
  },
  {
   "cell_type": "code",
   "execution_count": 154,
   "metadata": {},
   "outputs": [],
   "source": [
    "import itertools\n",
    "def plot_confusion_matrix(cm, classes,\n",
    "                          normalize=False,\n",
    "                          title='Confusion matrix',\n",
    "                          cmap=plt.cm.Blues):\n",
    "    \"\"\"\n",
    "    This function prints and plots the confusion matrix.\n",
    "    Normalization can be applied by setting `normalize=True`.\n",
    "    \"\"\"\n",
    "    if normalize:\n",
    "        cm = cm.astype('float') / cm.sum(axis=1)[:, np.newaxis]\n",
    "        print(\"Normalized confusion matrix\")\n",
    "    else:\n",
    "        print('Confusion matrix, without normalization')\n",
    "\n",
    "    plt.imshow(cm, interpolation='nearest', cmap=cmap)\n",
    "    plt.title(title)\n",
    "    plt.colorbar()\n",
    "    tick_marks = np.arange(len(classes))\n",
    "    plt.xticks(tick_marks, classes, rotation=45)\n",
    "    plt.yticks(tick_marks, classes)\n",
    "\n",
    "    fmt = '.2f' if normalize else 'd'\n",
    "    thresh = cm.max() / 2.\n",
    "    for i, j in itertools.product(range(cm.shape[0]), range(cm.shape[1])):\n",
    "        plt.text(j, i, format(cm[i, j], fmt),\n",
    "                 horizontalalignment=\"center\",\n",
    "                 color=\"white\" if cm[i, j] > thresh else \"black\")\n",
    "\n",
    "    plt.tight_layout()\n",
    "    plt.ylabel('True label')\n",
    "    plt.xlabel('Predicted label')"
   ]
  },
  {
   "cell_type": "code",
   "execution_count": 155,
   "metadata": {},
   "outputs": [
    {
     "name": "stdout",
     "output_type": "stream",
     "text": [
      "Confusion matrix, without normalization\n"
     ]
    },
    {
     "data": {
      "image/png": "[encoded data removed]",
      "text/plain": [
       "<Figure size 432x288 with 2 Axes>"
      ]
     },
     "metadata": {},
     "output_type": "display_data"
    },
    {
     "data": {
      "text/plain": [
       "<Figure size 432x288 with 0 Axes>"
      ]
     },
     "metadata": {},
     "output_type": "display_data"
    }
   ],
   "source": [
    "cnf_matrix= confusion_matrix(y_test, y_pred)\n",
    "plot_confusion_matrix(cnf_matrix, classes=[i for i in range(1,10)],\n",
    "                      title='Confusion matrix, without normalization')\n",
    "plt.figure()\n",
    "plt.show()"
   ]
  }
 ],
 "metadata": {
  "kernelspec": {
   "display_name": "Python 3",
   "language": "python",
   "name": "python3"
  },
  "language_info": {
   "codemirror_mode": {
    "name": "ipython",
    "version": 3
   },
   "file_extension": ".py",
   "mimetype": "text/x-python",
   "name": "python",
   "nbconvert_exporter": "python",
   "pygments_lexer": "ipython3",
   "version": "3.6.5"
  }
 },
 "nbformat": 4,
 "nbformat_minor": 2
}
